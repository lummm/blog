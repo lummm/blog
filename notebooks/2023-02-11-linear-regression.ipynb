{
 "cells": [
  {
   "cell_type": "markdown",
   "id": "64e2e477-788a-44ac-84c6-01d18b970957",
   "metadata": {
    "collapsed": false,
    "jupyter": {
     "outputs_hidden": false
    }
   },
   "source": [
    "# Linear Regression - Connect the dots\n",
    "\n",
    "A fundamental concept in machine learning is 'linear regression'.  The concept is actually pretty intuitive, especially if we work in 2-D:"
   ]
  },
  {
   "cell_type": "code",
   "execution_count": null,
   "id": "742823ca-54a3-421e-a367-da4625cd22d6",
   "metadata": {
    "collapsed": false,
    "jupyter": {
     "outputs_hidden": false
    }
   },
   "outputs": [],
   "source": []
  }
 ],
 "metadata": {
  "kernelspec": {
   "display_name": "Python 3 (ipykernel)",
   "language": "python",
   "name": "python3"
  },
  "language_info": {
   "codemirror_mode": {
    "name": "ipython",
    "version": 3
   },
   "file_extension": ".py",
   "mimetype": "text/x-python",
   "name": "python",
   "nbconvert_exporter": "python",
   "pygments_lexer": "ipython3",
   "version": "3.11.7"
  },
  "name": "2023-02-011.ipynb"
 },
 "nbformat": 4,
 "nbformat_minor": 5
}
